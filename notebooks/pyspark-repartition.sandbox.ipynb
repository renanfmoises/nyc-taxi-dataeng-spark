{
 "cells": [
  {
   "cell_type": "markdown",
   "id": "3e132c64",
   "metadata": {},
   "source": [
    "# PySpark Repartition\n",
    "\n",
    "**Libraries and imports**"
   ]
  },
  {
   "cell_type": "code",
   "execution_count": 3,
   "id": "edc7f788",
   "metadata": {},
   "outputs": [],
   "source": [
    "import pyspark\n",
    "from pyspark.sql import SparkSession\n",
    "from pyspark.sql import types"
   ]
  },
  {
   "cell_type": "code",
   "execution_count": 4,
   "id": "d9a94ec6",
   "metadata": {},
   "outputs": [
    {
     "data": {
      "text/plain": [
       "'/usr/local/Cellar/apache-spark/3.3.0/libexec/python/pyspark/__init__.py'"
      ]
     },
     "execution_count": 4,
     "metadata": {},
     "output_type": "execute_result"
    }
   ],
   "source": [
    "# Check pyspark localtion\n",
    "pyspark.__file__"
   ]
  },
  {
   "cell_type": "markdown",
   "id": "00286109",
   "metadata": {},
   "source": [
    "## Spark Session"
   ]
  },
  {
   "cell_type": "code",
   "execution_count": 5,
   "id": "2d98bcbb",
   "metadata": {},
   "outputs": [
    {
     "name": "stdout",
     "output_type": "stream",
     "text": [
      "22/08/31 15:07:41 WARN Utils: Your hostname, mpb-m1max.local resolves to a loopback address: 127.0.0.1; using 192.168.1.12 instead (on interface en0)\n",
      "22/08/31 15:07:41 WARN Utils: Set SPARK_LOCAL_IP if you need to bind to another address\n"
     ]
    },
    {
     "name": "stderr",
     "output_type": "stream",
     "text": [
      "Setting default log level to \"WARN\".\n",
      "To adjust logging level use sc.setLogLevel(newLevel). For SparkR, use setLogLevel(newLevel).\n"
     ]
    },
    {
     "name": "stdout",
     "output_type": "stream",
     "text": [
      "22/08/31 15:07:42 WARN NativeCodeLoader: Unable to load native-hadoop library for your platform... using builtin-java classes where applicable\n"
     ]
    }
   ],
   "source": [
    "# Create a SparkSession\n",
    "spark = (\n",
    "    SparkSession.builder\n",
    "    .master(\"local[4]\")\n",
    "    .appName(\"pyspark-repartition.sandbox\")\n",
    "    .getOrCreate()\n",
    "    )"
   ]
  },
  {
   "cell_type": "markdown",
   "id": "effc8285",
   "metadata": {},
   "source": [
    "## Repartition Function"
   ]
  },
  {
   "cell_type": "code",
   "execution_count": 6,
   "id": "c7c12cc6",
   "metadata": {},
   "outputs": [],
   "source": [
    "# Repartition function\n",
    "def dataset_repartition(\n",
    "    spark_session: SparkSession,\n",
    "    # schema: types.StructType,\n",
    "    n_partitions: int = 4,\n",
    "    input_path: str = None,\n",
    "    output_path: str = None,\n",
    ") -> None:\n",
    "    \"\"\"\n",
    "    Repartition a specific pyspark DataFrame into n_partitions,\n",
    "    taking a file path as input and a directory as output\n",
    "\n",
    "    Args:\n",
    "        spark_session (pyspark.sql.session.SparkSession): spark session used for the repartition\n",
    "        n_partition (int): number of partitions for the resulting spark DataFrame\n",
    "        input_path (str): dir [or file] path for the desired object to be repartitioned\n",
    "        output_path (str): dir path for the desired localtion where the reapartition will be stored\n",
    "\n",
    "    Returns:\n",
    "        None\n",
    "    \"\"\"\n",
    "    if n_partitions < 1:\n",
    "        raise ValueError(\"n_partitions must be greater than 0\")\n",
    "\n",
    "    df = spark_session.read.option(\"header\", \"true\").parquet(input_path)\n",
    "\n",
    "    df.repartition(n_partitions).write.parquet(output_path, mode=\"overwrite\")\n",
    "    return df"
   ]
  },
  {
   "cell_type": "markdown",
   "id": "79905132",
   "metadata": {},
   "source": [
    "## Loop over FHV dataset"
   ]
  },
  {
   "cell_type": "code",
   "execution_count": 6,
   "id": "54f23257",
   "metadata": {},
   "outputs": [
    {
     "name": "stderr",
     "output_type": "stream",
     "text": [
      "                                                                                \r"
     ]
    }
   ],
   "source": [
    "# Loop over 2021 Oct-Dec and repartition fhv data\n",
    "year = 2021\n",
    "\n",
    "for month in range(10, 13): # From Oct 2021, Dec 2021\n",
    "\n",
    "    fhv_input_path = f\"../data/raw/fhv/{year}/{month:02d}/\"\n",
    "    fhv_output_path = f\"../data/part/fhv/{year}/{month:02d}/\"\n",
    "\n",
    "    dataset_repartition(\n",
    "        spark_session = spark,\n",
    "        n_partitions = 4,\n",
    "        input_path=fhv_input_path,\n",
    "        output_path=fhv_output_path,\n",
    "    )"
   ]
  },
  {
   "cell_type": "code",
   "execution_count": 11,
   "id": "d31b1222",
   "metadata": {},
   "outputs": [],
   "source": [
    "# Stopping the SparkSession\n",
    "spark.stop()"
   ]
  },
  {
   "cell_type": "code",
   "execution_count": null,
   "id": "e2651fae",
   "metadata": {},
   "outputs": [],
   "source": []
  }
 ],
 "metadata": {
  "kernelspec": {
   "display_name": "Python 3 (ipykernel)",
   "language": "python",
   "name": "python3"
  },
  "language_info": {
   "codemirror_mode": {
    "name": "ipython",
    "version": 3
   },
   "file_extension": ".py",
   "mimetype": "text/x-python",
   "name": "python",
   "nbconvert_exporter": "python",
   "pygments_lexer": "ipython3",
   "version": "3.8.12"
  },
  "toc": {
   "base_numbering": 1,
   "nav_menu": {},
   "number_sections": true,
   "sideBar": true,
   "skip_h1_title": false,
   "title_cell": "Table of Contents",
   "title_sidebar": "Contents",
   "toc_cell": false,
   "toc_position": {},
   "toc_section_display": true,
   "toc_window_display": false
  },
  "vscode": {
   "interpreter": {
    "hash": "88712f30c1a1dd5ad2cb56037837e18183d173a143492774fd4b7410719c2e92"
   }
  }
 },
 "nbformat": 4,
 "nbformat_minor": 5
}
