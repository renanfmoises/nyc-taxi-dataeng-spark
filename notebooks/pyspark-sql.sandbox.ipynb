{
 "cells": [
  {
   "cell_type": "code",
   "execution_count": 1,
   "metadata": {},
   "outputs": [],
   "source": [
    "import pyspark\n",
    "from pyspark.sql import SparkSession\n",
    "from pyspark.sql import functions as F\n",
    "\n",
    "from warnings import simplefilter\n",
    "simplefilter('ignore')"
   ]
  },
  {
   "cell_type": "code",
   "execution_count": 2,
   "metadata": {},
   "outputs": [
    {
     "name": "stdout",
     "output_type": "stream",
     "text": [
      "22/08/31 16:28:33 WARN Utils: Your hostname, mpb-m1max.local resolves to a loopback address: 127.0.0.1; using 192.168.1.12 instead (on interface en0)\n",
      "22/08/31 16:28:33 WARN Utils: Set SPARK_LOCAL_IP if you need to bind to another address\n"
     ]
    },
    {
     "name": "stderr",
     "output_type": "stream",
     "text": [
      "Setting default log level to \"WARN\".\n",
      "To adjust logging level use sc.setLogLevel(newLevel). For SparkR, use setLogLevel(newLevel).\n"
     ]
    },
    {
     "name": "stdout",
     "output_type": "stream",
     "text": [
      "22/08/31 16:28:33 WARN NativeCodeLoader: Unable to load native-hadoop library for your platform... using builtin-java classes where applicable\n"
     ]
    }
   ],
   "source": [
    "# Create a SparkSession\n",
    "spark = (\n",
    "    SparkSession.builder\n",
    "    .master(\"local[4]\")\n",
    "    .appName(\"pyspark-sql.sandbox\")\n",
    "    .getOrCreate()\n",
    ")\n",
    "\n",
    "# Stop the SparkSession, if needed\n",
    "# spark.stop() "
   ]
  },
  {
   "cell_type": "code",
   "execution_count": 3,
   "metadata": {},
   "outputs": [
    {
     "name": "stderr",
     "output_type": "stream",
     "text": [
      "                                                                                \r"
     ]
    },
    {
     "name": "stdout",
     "output_type": "stream",
     "text": [
      "root\n",
      " |-- VendorID: long (nullable = true)\n",
      " |-- lpep_pickup_datetime: timestamp (nullable = true)\n",
      " |-- lpep_dropoff_datetime: timestamp (nullable = true)\n",
      " |-- store_and_fwd_flag: string (nullable = true)\n",
      " |-- RatecodeID: double (nullable = true)\n",
      " |-- PULocationID: long (nullable = true)\n",
      " |-- DOLocationID: long (nullable = true)\n",
      " |-- passenger_count: double (nullable = true)\n",
      " |-- trip_distance: double (nullable = true)\n",
      " |-- fare_amount: double (nullable = true)\n",
      " |-- extra: double (nullable = true)\n",
      " |-- mta_tax: double (nullable = true)\n",
      " |-- tip_amount: double (nullable = true)\n",
      " |-- tolls_amount: double (nullable = true)\n",
      " |-- ehail_fee: integer (nullable = true)\n",
      " |-- improvement_surcharge: double (nullable = true)\n",
      " |-- total_amount: double (nullable = true)\n",
      " |-- payment_type: double (nullable = true)\n",
      " |-- trip_type: double (nullable = true)\n",
      " |-- congestion_surcharge: double (nullable = true)\n",
      "\n"
     ]
    }
   ],
   "source": [
    "# Read green taxi data\n",
    "df_green = spark.read.parquet(\"../data/part/green/2021/*/*\")\n",
    "df_green.printSchema()"
   ]
  },
  {
   "cell_type": "code",
   "execution_count": 4,
   "metadata": {},
   "outputs": [
    {
     "name": "stdout",
     "output_type": "stream",
     "text": [
      "root\n",
      " |-- VendorID: long (nullable = true)\n",
      " |-- tpep_pickup_datetime: timestamp (nullable = true)\n",
      " |-- tpep_dropoff_datetime: timestamp (nullable = true)\n",
      " |-- passenger_count: double (nullable = true)\n",
      " |-- trip_distance: double (nullable = true)\n",
      " |-- RatecodeID: double (nullable = true)\n",
      " |-- store_and_fwd_flag: string (nullable = true)\n",
      " |-- PULocationID: long (nullable = true)\n",
      " |-- DOLocationID: long (nullable = true)\n",
      " |-- payment_type: long (nullable = true)\n",
      " |-- fare_amount: double (nullable = true)\n",
      " |-- extra: double (nullable = true)\n",
      " |-- mta_tax: double (nullable = true)\n",
      " |-- tip_amount: double (nullable = true)\n",
      " |-- tolls_amount: double (nullable = true)\n",
      " |-- improvement_surcharge: double (nullable = true)\n",
      " |-- total_amount: double (nullable = true)\n",
      " |-- congestion_surcharge: double (nullable = true)\n",
      " |-- airport_fee: double (nullable = true)\n",
      "\n"
     ]
    }
   ],
   "source": [
    "# Read yellow taxi data\n",
    "df_yellow = spark.read.parquet(\"../data/part/yellow/2021/*/*\")\n",
    "df_yellow.printSchema()"
   ]
  },
  {
   "cell_type": "code",
   "execution_count": 5,
   "metadata": {},
   "outputs": [],
   "source": [
    "# Rename columns to match in both datasets\n",
    "\n",
    "# Green dataset\n",
    "df_green = (\n",
    "    df_green\n",
    "        .withColumnRenamed(\"lpep_pickup_datetime\", \"pickup_datetime\")\n",
    "        .withColumnRenamed(\"lpep_dropoff_datetime\", \"dropoff_datetime\")\n",
    ")\n",
    "\n",
    "# Yellow dataset\n",
    "df_yellow = (\n",
    "    df_yellow\n",
    "        .withColumnRenamed(\"tpep_pickup_datetime\", \"pickup_datetime\")\n",
    "        .withColumnRenamed(\"tpep_dropoff_datetime\", \"dropoff_datetime\")\n",
    ")"
   ]
  },
  {
   "cell_type": "code",
   "execution_count": 6,
   "metadata": {},
   "outputs": [
    {
     "data": {
      "text/plain": [
       "['VendorID',\n",
       " 'pickup_datetime',\n",
       " 'dropoff_datetime',\n",
       " 'store_and_fwd_flag',\n",
       " 'RatecodeID',\n",
       " 'PULocationID',\n",
       " 'DOLocationID',\n",
       " 'passenger_count',\n",
       " 'trip_distance',\n",
       " 'fare_amount',\n",
       " 'extra',\n",
       " 'mta_tax',\n",
       " 'tip_amount',\n",
       " 'tolls_amount',\n",
       " 'improvement_surcharge',\n",
       " 'total_amount',\n",
       " 'payment_type',\n",
       " 'congestion_surcharge']"
      ]
     },
     "execution_count": 6,
     "metadata": {},
     "output_type": "execute_result"
    }
   ],
   "source": [
    "# Select columns to match in both datasets\n",
    "tripdata_columns = [col for col in df_green.columns if col in df_yellow.columns]\n",
    "tripdata_columns"
   ]
  },
  {
   "cell_type": "code",
   "execution_count": 7,
   "metadata": {},
   "outputs": [],
   "source": [
    "# Create a new column with the taxi type\n",
    "df_green = df_green.select(*tripdata_columns).withColumn(\"service\", F.lit(\"green\"))\n",
    "df_yellow = df_yellow.select(*tripdata_columns).withColumn(\"service\", F.lit(\"yellow\"))\n",
    "\n",
    "# Combine both datasets\n",
    "df_tripdata = df_green.unionAll(df_yellow)"
   ]
  },
  {
   "cell_type": "code",
   "execution_count": 8,
   "metadata": {},
   "outputs": [
    {
     "name": "stderr",
     "output_type": "stream",
     "text": [
      "[Stage 2:=============================>                             (4 + 4) / 8]\r"
     ]
    },
    {
     "name": "stdout",
     "output_type": "stream",
     "text": [
      "+-------+--------+\n",
      "|service|   count|\n",
      "+-------+--------+\n",
      "|  green|  319081|\n",
      "| yellow|10150822|\n",
      "+-------+--------+\n",
      "\n",
      "CPU times: user 4.78 ms, sys: 2.2 ms, total: 6.98 ms\n",
      "Wall time: 3.78 s\n"
     ]
    },
    {
     "name": "stderr",
     "output_type": "stream",
     "text": [
      "\r\n",
      "                                                                                \r"
     ]
    }
   ],
   "source": [
    "# Check the number of rows for each taxi type\n",
    "%time df_tripdata.groupBy(\"service\").count().show()"
   ]
  },
  {
   "cell_type": "markdown",
   "metadata": {},
   "source": [
    "## PySpark SQL"
   ]
  },
  {
   "cell_type": "code",
   "execution_count": 9,
   "metadata": {},
   "outputs": [],
   "source": [
    "# Register the DataFrame as a SQL temporary table\n",
    "df_tripdata.createOrReplaceTempView(\"nyc_taxi_tripdata\")"
   ]
  },
  {
   "cell_type": "code",
   "execution_count": 10,
   "metadata": {},
   "outputs": [
    {
     "name": "stderr",
     "output_type": "stream",
     "text": [
      "\r\n",
      "[Stage 5:=============================>                             (4 + 4) / 8]\r"
     ]
    },
    {
     "name": "stdout",
     "output_type": "stream",
     "text": [
      "+-------+--------+\n",
      "|service|   count|\n",
      "+-------+--------+\n",
      "|  green|  319081|\n",
      "| yellow|10150822|\n",
      "+-------+--------+\n",
      "\n",
      "CPU times: user 2.55 ms, sys: 1.25 ms, total: 3.8 ms\n",
      "Wall time: 1.28 s\n"
     ]
    },
    {
     "name": "stderr",
     "output_type": "stream",
     "text": [
      "\r\n",
      "                                                                                \r"
     ]
    }
   ],
   "source": [
    "# Run a SQL query\n",
    "%time spark.sql(\"SELECT service, COUNT(*) AS count FROM nyc_taxi_tripdata GROUP BY service\").show()"
   ]
  },
  {
   "cell_type": "code",
   "execution_count": 11,
   "metadata": {},
   "outputs": [
    {
     "name": "stdout",
     "output_type": "stream",
     "text": [
      "CPU times: user 1.11 ms, sys: 841 µs, total: 1.95 ms\n",
      "Wall time: 222 ms\n"
     ]
    }
   ],
   "source": [
    "%%time \n",
    "\n",
    "# Fancy query\n",
    "df_result = spark.sql(\"\"\"\n",
    "SELECT \n",
    "    -- Reveneue grouping\n",
    "    DATE_TRUNC('month', pickup_datetime) AS revenue_month, \n",
    "    PULocationID AS revenue_zone,\n",
    "    service, \n",
    "\n",
    "    -- Revenue calculation \n",
    "    ROUND(SUM(fare_amount), 2) AS revenue_monthly_fare,\n",
    "    ROUND(SUM(extra), 2) AS revenue_monthly_extra,\n",
    "    ROUND(SUM(mta_tax), 2) AS revenue_monthly_mta_tax,\n",
    "    ROUND(SUM(tip_amount), 2) AS revenue_monthly_tip_amount,\n",
    "    ROUND(SUM(tolls_amount), 2) AS revenue_monthly_tolls_amount,\n",
    "    ROUND(SUM(improvement_surcharge), 2) AS revenue_monthly_improvement_surcharge,\n",
    "    ROUND(SUM(total_amount), 2) AS revenue_monthly_total_amount,\n",
    "    ROUND(SUM(congestion_surcharge), 2) AS revenue_monthly_congestion_surcharge,\n",
    "\n",
    "    -- Additional calculations\n",
    "    ROUND(AVG(passenger_count), 2) AS avg_montly_passenger_count,\n",
    "    ROUND(AVG(trip_distance), 2) AS avg_montly_trip_distance\n",
    "FROM\n",
    "    nyc_taxi_tripdata\n",
    "GROUP BY\n",
    "    revenue_month, revenue_zone, service\n",
    "\"\"\"\n",
    ")"
   ]
  },
  {
   "cell_type": "code",
   "execution_count": 12,
   "metadata": {},
   "outputs": [
    {
     "name": "stderr",
     "output_type": "stream",
     "text": [
      "[Stage 8:====================================>                      (5 + 3) / 8]\r"
     ]
    },
    {
     "name": "stdout",
     "output_type": "stream",
     "text": [
      "+-------------------+------------+-------+--------------------+\n",
      "|      revenue_month|revenue_zone|service|revenue_monthly_fare|\n",
      "+-------------------+------------+-------+--------------------+\n",
      "|2021-10-01 00:00:00|         225|  green|            15349.12|\n",
      "|2021-10-01 00:00:00|          23|  green|             7239.53|\n",
      "|2021-10-01 00:00:00|          11|  green|             2438.41|\n",
      "|2021-10-01 00:00:00|          79|  green|             1013.59|\n",
      "|2021-10-01 00:00:00|           6|  green|              879.45|\n",
      "|2021-09-01 00:00:00|          82|  green|                58.5|\n",
      "|2021-10-01 00:00:00|         205|  green|            13412.16|\n",
      "|2021-10-01 00:00:00|          60|  green|             4616.21|\n",
      "|2021-10-01 00:00:00|           4|  green|              951.82|\n",
      "|2021-10-01 00:00:00|         129|  green|            30595.45|\n",
      "+-------------------+------------+-------+--------------------+\n",
      "only showing top 10 rows\n",
      "\n",
      "CPU times: user 5.33 ms, sys: 2.14 ms, total: 7.47 ms\n",
      "Wall time: 3.86 s\n"
     ]
    },
    {
     "name": "stderr",
     "output_type": "stream",
     "text": [
      "\r\n",
      "                                                                                \r"
     ]
    }
   ],
   "source": [
    "%%time \n",
    "\n",
    "# Check some datapoints\n",
    "df_result.select(\n",
    "    \"revenue_month\",\n",
    "    \"revenue_zone\", \n",
    "    \"service\", \n",
    "    \"revenue_monthly_fare\").show(10)"
   ]
  },
  {
   "cell_type": "code",
   "execution_count": 13,
   "metadata": {},
   "outputs": [
    {
     "name": "stderr",
     "output_type": "stream",
     "text": [
      "[Stage 13:>                                                         (0 + 1) / 1]\r"
     ]
    },
    {
     "name": "stdout",
     "output_type": "stream",
     "text": [
      "CPU times: user 4.18 ms, sys: 1.5 ms, total: 5.69 ms\n",
      "Wall time: 5.03 s\n"
     ]
    },
    {
     "name": "stderr",
     "output_type": "stream",
     "text": [
      "\r\n",
      "                                                                                \r"
     ]
    }
   ],
   "source": [
    "%%time\n",
    "\n",
    "# Write Resulting table to parquet\n",
    "df_result.write.parquet(\"../data/reports/revenue/tripdata_all/\", mode = \"overwrite\")"
   ]
  },
  {
   "cell_type": "code",
   "execution_count": null,
   "metadata": {},
   "outputs": [],
   "source": []
  }
 ],
 "metadata": {
  "kernelspec": {
   "display_name": "Python 3 (ipykernel)",
   "language": "python",
   "name": "python3"
  },
  "language_info": {
   "codemirror_mode": {
    "name": "ipython",
    "version": 3
   },
   "file_extension": ".py",
   "mimetype": "text/x-python",
   "name": "python",
   "nbconvert_exporter": "python",
   "pygments_lexer": "ipython3",
   "version": "3.8.12"
  },
  "toc": {
   "base_numbering": 1,
   "nav_menu": {},
   "number_sections": true,
   "sideBar": true,
   "skip_h1_title": false,
   "title_cell": "Table of Contents",
   "title_sidebar": "Contents",
   "toc_cell": false,
   "toc_position": {},
   "toc_section_display": true,
   "toc_window_display": false
  },
  "vscode": {
   "interpreter": {
    "hash": "817bb207708f073bd8cd826c3aede9b80d530a23f46be6b6ae488e265e6e17f6"
   }
  }
 },
 "nbformat": 4,
 "nbformat_minor": 2
}
