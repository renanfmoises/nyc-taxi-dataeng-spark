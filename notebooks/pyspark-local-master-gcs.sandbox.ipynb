{
 "cells": [
  {
   "cell_type": "code",
   "execution_count": 1,
   "id": "54460aec",
   "metadata": {},
   "outputs": [],
   "source": [
    "import os\n",
    "import pyspark\n",
    "from pyspark.sql import SparkSession\n",
    "from pyspark.conf import SparkConf\n",
    "from pyspark.context import SparkContext\n",
    "# from pyspark.sql import types\n",
    "# from pyspark.sql.functions import udf as F"
   ]
  },
  {
   "cell_type": "code",
   "execution_count": 2,
   "id": "bd87c955",
   "metadata": {},
   "outputs": [
    {
     "name": "stdout",
     "output_type": "stream",
     "text": [
      "\u001b[1m\u001b[36mpart\u001b[m\u001b[m   \u001b[1m\u001b[36mraw\u001b[m\u001b[m    \u001b[1m\u001b[36mreport\u001b[m\u001b[m\r\n"
     ]
    }
   ],
   "source": [
    "# On terminal ../data\n",
    "! ls ../data\n",
    "# !gsutil -m cp -r part/ gs://data_lake_nyc-taxi-359621/part \n",
    "#         👆 -m for multithreaded upload"
   ]
  },
  {
   "cell_type": "code",
   "execution_count": 3,
   "id": "079c1316",
   "metadata": {},
   "outputs": [],
   "source": [
    "# spark = (\n",
    "#     SparkSession\n",
    "#     .builder\n",
    "#     .master(\"local[4]\")\n",
    "#     .appName(\"pyspark-etl.sandbox\")\n",
    "#     .getOrCreate()\n",
    "# )"
   ]
  },
  {
   "cell_type": "code",
   "execution_count": 4,
   "id": "6ca6a7c6",
   "metadata": {},
   "outputs": [],
   "source": [
    "CREDS_PATH = os.getenv(\"GOOGLE_APPLICATION_CREDENTIALS\")\n",
    "SPARK_HOME = os.getenv(\"SPARK_HOME\")\n",
    "\n",
    "# for path in (CREDS_PATH, SPARK_HOME):\n",
    "#     print(path)"
   ]
  },
  {
   "cell_type": "code",
   "execution_count": 5,
   "id": "3340ab3e",
   "metadata": {},
   "outputs": [],
   "source": [
    "conf = (\n",
    "    SparkConf()\n",
    "    .setMaster(\"local[4]\")\n",
    "    .setAppName(\"pyspark-local-master-gcs.sandbox\")\n",
    "    .set(\"spark.jars\", f\"{SPARK_HOME}/jars/gcs-connector-hadoop3-latest.jar\")\n",
    "    .set(\"spark.hadoop.google.cloud.auth.service.account.enable\", \"true\") \\\n",
    "    .set(\"spark.hadoop.google.cloud.auth.service.account.json.keyfile\", CREDS_PATH)\n",
    ")"
   ]
  },
  {
   "cell_type": "code",
   "execution_count": 6,
   "id": "05d0d2ae",
   "metadata": {},
   "outputs": [
    {
     "name": "stdout",
     "output_type": "stream",
     "text": [
      "22/09/02 10:22:35 WARN NativeCodeLoader: Unable to load native-hadoop library for your platform... using builtin-java classes where applicable\n"
     ]
    },
    {
     "name": "stderr",
     "output_type": "stream",
     "text": [
      "Setting default log level to \"WARN\".\n",
      "To adjust logging level use sc.setLogLevel(newLevel). For SparkR, use setLogLevel(newLevel).\n"
     ]
    }
   ],
   "source": [
    "sc = SparkContext(conf = conf)\n",
    "\n",
    "hadoop_conf = sc._jsc.hadoopConfiguration()\n",
    "\n",
    "hadoop_conf.set(\"fs.AbstractFileSystem.gs.impl\",  \"com.google.cloud.hadoop.fs.gcs.GoogleHadoopFS\")\n",
    "hadoop_conf.set(\"fs.gs.impl\", \"com.google.cloud.hadoop.fs.gcs.GoogleHadoopFileSystem\")\n",
    "hadoop_conf.set(\"fs.gs.auth.service.account.json.keyfile\", CREDS_PATH)\n",
    "hadoop_conf.set(\"fs.gs.auth.service.account.enable\", \"true\")"
   ]
  },
  {
   "cell_type": "code",
   "execution_count": 7,
   "id": "ff545f4a",
   "metadata": {},
   "outputs": [],
   "source": [
    "spark = (\n",
    "    SparkSession.builder\n",
    "    .config(conf = sc.getConf())\n",
    "    .getOrCreate()\n",
    "    )"
   ]
  },
  {
   "cell_type": "code",
   "execution_count": 8,
   "id": "1ea7a231",
   "metadata": {},
   "outputs": [
    {
     "name": "stderr",
     "output_type": "stream",
     "text": [
      "                                                                                \r"
     ]
    }
   ],
   "source": [
    "df_green = spark.read.parquet(\"gs://data_lake_nyc-taxi-359621/part/fhv/2021/*\")"
   ]
  },
  {
   "cell_type": "code",
   "execution_count": 9,
   "id": "a25e3453",
   "metadata": {},
   "outputs": [
    {
     "name": "stderr",
     "output_type": "stream",
     "text": [
      "                                                                                \r"
     ]
    },
    {
     "data": {
      "text/plain": [
       "3846328"
      ]
     },
     "execution_count": 9,
     "metadata": {},
     "output_type": "execute_result"
    }
   ],
   "source": [
    "df_green.count()"
   ]
  },
  {
   "cell_type": "code",
   "execution_count": 10,
   "id": "4d6886ef",
   "metadata": {},
   "outputs": [],
   "source": [
    "spark.stop()"
   ]
  },
  {
   "cell_type": "code",
   "execution_count": null,
   "id": "61372c24",
   "metadata": {},
   "outputs": [],
   "source": []
  }
 ],
 "metadata": {
  "kernelspec": {
   "display_name": "Python 3 (ipykernel)",
   "language": "python",
   "name": "python3"
  },
  "language_info": {
   "codemirror_mode": {
    "name": "ipython",
    "version": 3
   },
   "file_extension": ".py",
   "mimetype": "text/x-python",
   "name": "python",
   "nbconvert_exporter": "python",
   "pygments_lexer": "ipython3",
   "version": "3.8.12"
  },
  "toc": {
   "base_numbering": 1,
   "nav_menu": {},
   "number_sections": true,
   "sideBar": true,
   "skip_h1_title": false,
   "title_cell": "Table of Contents",
   "title_sidebar": "Contents",
   "toc_cell": false,
   "toc_position": {},
   "toc_section_display": true,
   "toc_window_display": false
  },
  "vscode": {
   "interpreter": {
    "hash": "817bb207708f073bd8cd826c3aede9b80d530a23f46be6b6ae488e265e6e17f6"
   }
  }
 },
 "nbformat": 4,
 "nbformat_minor": 5
}
